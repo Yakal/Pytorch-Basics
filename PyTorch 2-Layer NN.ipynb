{
 "cells": [
  {
   "cell_type": "markdown",
   "metadata": {},
   "source": [
    "**Necessary Imports**"
   ]
  },
  {
   "cell_type": "code",
   "execution_count": 1,
   "metadata": {},
   "outputs": [
    {
     "name": "stdout",
     "output_type": "stream",
     "text": [
      "Torch version: 1.4.0\n",
      "Torchvision version: 0.5.0\n",
      "\n"
     ]
    }
   ],
   "source": [
    "import torch\n",
    "import torchvision\n",
    "print(f\"Torch version: {torch.__version__}\\nTorchvision version: {torchvision.__version__}\\n\")\n",
    "\n",
    "import torchvision.transforms as transforms\n",
    "\n",
    "from torch.utils.data import DataLoader\n",
    "from torch.utils.data.sampler import SubsetRandomSampler\n",
    "\n",
    "import os\n",
    "import numpy as np\n",
    "import matplotlib.pyplot as plt\n",
    "\n",
    "import pandas as pd\n",
    "pd.options.mode.chained_assignment = None  # default='warn'\n",
    "\n",
    "%load_ext autoreload\n",
    "%autoreload 2\n",
    "%matplotlib inline"
   ]
  },
  {
   "cell_type": "markdown",
   "metadata": {},
   "source": [
    "**Training a classifier with PyTorch**\n",
    "\n",
    "Steps:\n",
    "\n",
    "a) Dataloading\n",
    "\n",
    "b) Define nn\n",
    "\n",
    "c) Define loss & optimizer\n",
    "\n",
    "d) Train\n",
    "\n",
    "e) Test"
   ]
  },
  {
   "cell_type": "markdown",
   "metadata": {},
   "source": [
    "**Dataloader**"
   ]
  },
  {
   "cell_type": "code",
   "execution_count": 2,
   "metadata": {},
   "outputs": [],
   "source": [
    "#compose transform to be applied on dataset\n",
    "#.ToTensor converts img to numpy.ndarray\n",
    "#mean and std are in tuple format\n",
    "transform = transforms.Compose([transforms.ToTensor(),\n",
    "                                transforms.Normalize((0.5,),(0.5,))])\n",
    "\n",
    "root_path = os.path.join(os.getcwd(), 'datasets')\n",
    "\n",
    "fashion_mnist_train = torchvision.datasets.FashionMNIST(root=root_path, train=True,\n",
    "                                                          download=True, transform=transform)\n",
    "fashion_mnist_test = torchvision.datasets.FashionMNIST(root=root_path, train=False,\n",
    "                                                          download=True, transform=transform)\n",
    "\n",
    "batch_size = 8\n",
    "fashion_mnist_train_dataloader = DataLoader(fashion_mnist_train, batch_size=batch_size, shuffle= True)\n",
    "fashion_mnist_test_dataloader = DataLoader(fashion_mnist_test, batch_size=batch_size)\n",
    "\n",
    "#classes in fashion-mnist dataset\n",
    "classes = ('T-shirt/top', 'Trouser', 'Pullover', 'Dress', 'Coat',\n",
    "           'Sandal', 'Shirt', 'Sneaker', 'Bag', 'Ankle boot')"
   ]
  },
  {
   "cell_type": "code",
   "execution_count": 3,
   "metadata": {},
   "outputs": [
    {
     "name": "stdout",
     "output_type": "stream",
     "text": [
      "batch number 0\n",
      "Type of input: <class 'torch.Tensor'>\n",
      "Shape of the input: torch.Size([8, 1, 28, 28])\n",
      "label: tensor([3, 3, 8, 0, 1, 0, 6, 8])\n"
     ]
    }
   ],
   "source": [
    "for i, batch in enumerate(fashion_mnist_train_dataloader):\n",
    "    print('batch number {}'.format(i))\n",
    "    images, labels = batch\n",
    "    print(f\"Type of input: {type(images)}\")\n",
    "    print(f\"Shape of the input: {images.shape}\")\n",
    "    print(f\"label: {labels}\")\n",
    "    break"
   ]
  },
  {
   "cell_type": "code",
   "execution_count": 4,
   "metadata": {},
   "outputs": [
    {
     "data": {
      "image/png": "[encoded data removed]",
      "text/plain": [
       "<Figure size 432x288 with 1 Axes>"
      ]
     },
     "metadata": {
      "needs_background": "light"
     },
     "output_type": "display_data"
    },
    {
     "name": "stdout",
     "output_type": "stream",
     "text": [
      "label 0: Trouser\n",
      "label 1: Coat\n",
      "label 2: Sneaker\n",
      "label 3: Pullover\n",
      "label 4: Trouser\n",
      "label 5: Coat\n",
      "label 6: T-shirt/top\n",
      "label 7: Trouser\n"
     ]
    }
   ],
   "source": [
    "def imageshow(image):\n",
    "    image = image * 0.5 + 0.5 #unnormalize w.r.t mean and std\n",
    "    npimage = image.numpy()\n",
    "    plt.imshow(np.transpose(npimage, (1, 2, 0)))\n",
    "    plt.show()\n",
    "\n",
    "# get some random training images\n",
    "dataiter = iter(fashion_mnist_train_dataloader)\n",
    "images, labels = dataiter.next()\n",
    "\n",
    "# show images in a grid\n",
    "imageshow(torchvision.utils.make_grid(images))\n",
    "\n",
    "# print labels\n",
    "for i in range(batch_size):\n",
    "    print(\"label {}: {}\".format(i, classes[labels[i]]))"
   ]
  },
  {
   "cell_type": "markdown",
   "metadata": {},
   "source": [
    "**Neural Network**"
   ]
  },
  {
   "cell_type": "code",
   "execution_count": 5,
   "metadata": {},
   "outputs": [],
   "source": [
    "import torch.nn as nn\n",
    "\n",
    "# 2 layer nn with sigmoid activation\n",
    "class Net(nn.Module):\n",
    "    def __init__(self, activation=nn.Sigmoid(), input_size=1*28*28, hidden_size=100, classes=10):\n",
    "        super(Net, self).__init__()\n",
    "        \n",
    "        self.input_size = input_size\n",
    "\n",
    "        # Here we initialize our activation and set up our two linear layers\n",
    "        self.activation = activation\n",
    "        self.fc1 = nn.Linear(input_size, hidden_size)\n",
    "        self.fc2 = nn.Linear(hidden_size, classes)\n",
    "\n",
    "    def forward(self, x):\n",
    "        x = x.view(-1, self.input_size) # flatten the input\n",
    "        x = self.fc1(x)\n",
    "        x = self.activation(x)\n",
    "        x = self.fc2(x)\n",
    "        return x"
   ]
  },
  {
   "cell_type": "code",
   "execution_count": 6,
   "metadata": {},
   "outputs": [
    {
     "name": "stdout",
     "output_type": "stream",
     "text": [
      "device is: cpu\n",
      "Net(\n",
      "  (activation): Sigmoid()\n",
      "  (fc1): Linear(in_features=784, out_features=100, bias=True)\n",
      "  (fc2): Linear(in_features=100, out_features=10, bias=True)\n",
      ")\n",
      "torch.Size([100, 784])\n",
      "torch.Size([100])\n",
      "torch.Size([10, 100])\n",
      "torch.Size([10])\n"
     ]
    }
   ],
   "source": [
    "device = torch.device(\"cuda:0\" if torch.cuda.is_available() else \"cpu\")\n",
    "print(\"device is: {}\".format(device))\n",
    "\n",
    "#  create model\n",
    "net = Net()\n",
    "net = net.to(device)\n",
    "print(net)\n",
    "\n",
    "# shapes of weights and biases\n",
    "for parameter in net.parameters():\n",
    "    print(parameter.shape)"
   ]
  },
  {
   "cell_type": "markdown",
   "metadata": {},
   "source": [
    "**Loss & Optimizer**"
   ]
  },
  {
   "cell_type": "code",
   "execution_count": 7,
   "metadata": {},
   "outputs": [],
   "source": [
    "import torch.optim as optim\n",
    "\n",
    "#since the problem is multiclass classification use C.E.L.\n",
    "criterion = nn.CrossEntropyLoss()\n",
    "\n",
    "#use stochastic gradient descent with momentum\n",
    "optimizer = optim.SGD(net.parameters(), lr=0.001, momentum=0.9)"
   ]
  },
  {
   "cell_type": "markdown",
   "metadata": {},
   "source": [
    "**Train**"
   ]
  },
  {
   "cell_type": "code",
   "execution_count": 8,
   "metadata": {},
   "outputs": [
    {
     "name": "stdout",
     "output_type": "stream",
     "text": [
      "TRAINING.\n",
      "[Epoch 1, Iteration  1000] loss: 1.554 acc: 54.84 %\n",
      "[Epoch 1, Iteration  2000] loss: 0.905 acc: 71.51 %\n",
      "[Epoch 1, Iteration  3000] loss: 0.729 acc: 75.65 %\n",
      "[Epoch 1, Iteration  4000] loss: 0.674 acc: 76.12 %\n",
      "[Epoch 1, Iteration  5000] loss: 0.615 acc: 78.12 %\n",
      "[Epoch 1, Iteration  6000] loss: 0.573 acc: 79.90 %\n",
      "[Epoch 1, Iteration  7000] loss: 0.548 acc: 81.09 %\n",
      "[Epoch 2, Iteration  1000] loss: 0.526 acc: 81.47 %\n",
      "[Epoch 2, Iteration  2000] loss: 0.517 acc: 81.65 %\n",
      "[Epoch 2, Iteration  3000] loss: 0.501 acc: 81.97 %\n",
      "[Epoch 2, Iteration  4000] loss: 0.475 acc: 83.55 %\n",
      "[Epoch 2, Iteration  5000] loss: 0.485 acc: 82.99 %\n",
      "[Epoch 2, Iteration  6000] loss: 0.478 acc: 82.71 %\n",
      "[Epoch 2, Iteration  7000] loss: 0.469 acc: 83.53 %\n",
      "FINISH.\n"
     ]
    }
   ],
   "source": [
    "train_loss_history = [] # loss\n",
    "train_acc_history = [] # accuracy\n",
    "\n",
    "print('TRAINING.')\n",
    "for epoch in range(2):\n",
    "    running_loss = 0.0\n",
    "    correct = 0.0\n",
    "    total = 0\n",
    "    \n",
    "    for i, data in enumerate(fashion_mnist_train_dataloader):\n",
    "        \n",
    "        # get the inputs; data is a list of [inputs, labels]\n",
    "        X, y = data\n",
    "\n",
    "        X = X.to(device)\n",
    "        y = y.to(device)\n",
    "\n",
    "        # pytorch accumulates the gradients, for updating the parameters correctly zero the parameter gradients \n",
    "        optimizer.zero_grad()\n",
    "\n",
    "        # forward + backward + optimize\n",
    "        y_pred = net(X) # input x and predict based on x\n",
    "        \n",
    "        loss = criterion(y_pred, y) # calculate the loss\n",
    "        \n",
    "        loss.backward()  # backpropagation, compute gradients\n",
    "        \n",
    "        optimizer.step()  # apply gradients\n",
    "\n",
    "        # loss and acc\n",
    "        running_loss += loss.item()\n",
    "        _, preds = torch.max(y_pred, 1) #convert output probabilities to predicted class\n",
    "        correct += preds.eq(y).sum().item()\n",
    "        total += y.size(0)\n",
    "\n",
    "        # print statistics\n",
    "        if i % 1000 == 999: # print every 1000 mini-batches\n",
    "            running_loss /= 1000\n",
    "            correct /= total\n",
    "            print(\"[Epoch %d, Iteration %5d] loss: %.3f acc: %.2f %%\" % (epoch+1, i+1, running_loss, 100*correct))\n",
    "            train_loss_history.append(running_loss)\n",
    "            train_acc_history.append(correct)\n",
    "            running_loss = 0.0\n",
    "            correct = 0.0\n",
    "            total = 0\n",
    "\n",
    "print('FINISH.')"
   ]
  },
  {
   "cell_type": "code",
   "execution_count": 9,
   "metadata": {},
   "outputs": [
    {
     "data": {
      "image/png": "[encoded data removed]",
      "text/plain": [
       "<Figure size 432x288 with 1 Axes>"
      ]
     },
     "metadata": {
      "needs_background": "light"
     },
     "output_type": "display_data"
    }
   ],
   "source": [
    "def plot_the_loss_acc(acc_hist, loss_hist, title):\n",
    "    plt.plot(acc_hist)\n",
    "    plt.plot(loss_hist)\n",
    "    plt.title(title)\n",
    "    plt.xlabel('iteration')\n",
    "    plt.ylabel('acc/loss')\n",
    "    plt.legend(['acc', 'loss'])\n",
    "    plt.show()\n",
    "\n",
    "plot_the_loss_acc(train_acc_history, train_loss_history, \"FashionMNIST\")"
   ]
  },
  {
   "cell_type": "markdown",
   "metadata": {},
   "source": [
    "**Test**"
   ]
  },
  {
   "cell_type": "code",
   "execution_count": 10,
   "metadata": {},
   "outputs": [
    {
     "data": {
      "image/png": "[encoded data removed]",
      "text/plain": [
       "<Figure size 1152x288 with 8 Axes>"
      ]
     },
     "metadata": {},
     "output_type": "display_data"
    }
   ],
   "source": [
    "#obtain one batch of test images\n",
    "dataiter = iter(fashion_mnist_test_dataloader)\n",
    "images, labels = dataiter.next()\n",
    "\n",
    "# get sample outputs\n",
    "outputs = net(images)\n",
    "# convert output probabilites to predicted class\n",
    "_, predicted = torch.max(outputs, 1)\n",
    "\n",
    "# prep images for display\n",
    "images = images.numpy()\n",
    "\n",
    "# plot the images in the batch, along with predicted and true labels\n",
    "fig = plt.figure(figsize=(16,4))\n",
    "for idx in range(batch_size):\n",
    "    ax = fig.add_subplot(2, batch_size/2, idx+1, xticks=[], yticks=[])\n",
    "    ax.imshow(np.squeeze(images[idx]), cmap='gray')\n",
    "    ax.set_title(\"{} ({})\".format(classes[predicted[idx]], classes[labels[idx]]),\n",
    "                color=\"green\" if predicted[idx]==labels[idx] else \"red\")"
   ]
  },
  {
   "cell_type": "code",
   "execution_count": 11,
   "metadata": {},
   "outputs": [
    {
     "name": "stdout",
     "output_type": "stream",
     "text": [
      "Accuracy of T-shirt/top: 81 %\n",
      "Accuracy of     Trouser: 93 %\n",
      "Accuracy of    Pullover: 71 %\n",
      "Accuracy of       Dress: 88 %\n",
      "Accuracy of        Coat: 73 %\n",
      "Accuracy of      Sandal: 88 %\n",
      "Accuracy of       Shirt: 51 %\n",
      "Accuracy of     Sneaker: 91 %\n",
      "Accuracy of         Bag: 92 %\n",
      "Accuracy of  Ankle boot: 91 %\n"
     ]
    }
   ],
   "source": [
    "# How well the performence of each class\n",
    "class_correct = list(0. for i in range(10))\n",
    "class_total = list(0. for i in range(10))\n",
    "\n",
    "with torch.no_grad():\n",
    "    for data in fashion_mnist_test_dataloader:\n",
    "        images, labels = data\n",
    "        outputs = net(images)\n",
    "        _, predicted = torch.max(outputs, 1)\n",
    "        c = (predicted == labels).squeeze()\n",
    "        for i in range(batch_size):\n",
    "            label = labels[i]\n",
    "            class_correct[label] += c[i].item()\n",
    "            class_total[label] += 1\n",
    "\n",
    "for i in range(10):\n",
    "    print('Accuracy of %11s: %2d %%' % (classes[i], 100 * class_correct[i] / class_total[i]))"
   ]
  },
  {
   "cell_type": "code",
   "execution_count": null,
   "metadata": {},
   "outputs": [],
   "source": []
  }
 ],
 "metadata": {
  "kernelspec": {
   "display_name": "Python 3",
   "language": "python",
   "name": "python3"
  },
  "language_info": {
   "codemirror_mode": {
    "name": "ipython",
    "version": 3
   },
   "file_extension": ".py",
   "mimetype": "text/x-python",
   "name": "python",
   "nbconvert_exporter": "python",
   "pygments_lexer": "ipython3",
   "version": "3.7.7"
  }
 },
 "nbformat": 4,
 "nbformat_minor": 2
}
